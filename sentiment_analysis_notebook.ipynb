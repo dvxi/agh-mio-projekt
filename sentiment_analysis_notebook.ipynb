{
  "cells": [
    {
      "cell_type": "raw",
      "metadata": {
        "vscode": {
          "languageId": "raw"
        }
      },
      "source": [
        "# Analiza Sentymentu Tweetów Trump'a z wykorzystaniem SHAP\n",
        "\n",
        "## Opis projektu\n",
        "Ten notebook realizuje analizę sentymentu tweetów z wykorzystaniem zbioru danych Trump Tweets z Kaggle.\n",
        "Projekt obejmuje:\n",
        "1. Przygotowanie i czyszczenie danych\n",
        "2. Budowę modelu klasyfikacji sentymentu\n",
        "3. Ewaluację modelu\n",
        "4. Analizę SHAP dla wyjaśnienia predykcji\n",
        "5. Wizualizację i dyskusję wyników\n",
        "\n",
        "**Dataset:** https://www.kaggle.com/datasets/austinreese/trump-tweets\n",
        "\n",
        "**Autorzy:** [Wprowadź swoje imiona]\n",
        "\n",
        "**Data:** 2024\n"
      ]
    }
  ],
  "metadata": {
    "language_info": {
      "name": "python"
    }
  },
  "nbformat": 4,
  "nbformat_minor": 2
}
